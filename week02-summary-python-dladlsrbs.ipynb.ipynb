{
 "cells": [
  {
   "cell_type": "code",
   "execution_count": 1,
   "id": "f6af93f7",
   "metadata": {},
   "outputs": [],
   "source": [
    "import sys"
   ]
  },
  {
   "cell_type": "code",
   "execution_count": 2,
   "id": "8c8b6e96",
   "metadata": {},
   "outputs": [
    {
     "data": {
      "text/plain": [
       "'3.9.13 (main, Aug 25 2022, 23:51:50) [MSC v.1916 64 bit (AMD64)]'"
      ]
     },
     "execution_count": 2,
     "metadata": {},
     "output_type": "execute_result"
    }
   ],
   "source": [
    "sys.version"
   ]
  },
  {
   "cell_type": "markdown",
   "id": "30aba545",
   "metadata": {},
   "source": [
    "파이썬 자료형"
   ]
  },
  {
   "cell_type": "code",
   "execution_count": 3,
   "id": "cb651477",
   "metadata": {},
   "outputs": [
    {
     "data": {
      "text/plain": [
       "str"
      ]
     },
     "execution_count": 3,
     "metadata": {},
     "output_type": "execute_result"
    }
   ],
   "source": [
    "type('Hello')"
   ]
  },
  {
   "cell_type": "code",
   "execution_count": 4,
   "id": "51f87520",
   "metadata": {},
   "outputs": [
    {
     "data": {
      "text/plain": [
       "int"
      ]
     },
     "execution_count": 4,
     "metadata": {},
     "output_type": "execute_result"
    }
   ],
   "source": [
    "type(123)"
   ]
  },
  {
   "cell_type": "code",
   "execution_count": 5,
   "id": "f264a982",
   "metadata": {},
   "outputs": [
    {
     "data": {
      "text/plain": [
       "float"
      ]
     },
     "execution_count": 5,
     "metadata": {},
     "output_type": "execute_result"
    }
   ],
   "source": [
    "type(3.6)"
   ]
  },
  {
   "cell_type": "code",
   "execution_count": 6,
   "id": "439bea5a",
   "metadata": {},
   "outputs": [
    {
     "name": "stdout",
     "output_type": "stream",
     "text": [
      "70\n"
     ]
    }
   ],
   "source": [
    "print(10*7)"
   ]
  },
  {
   "cell_type": "code",
   "execution_count": 7,
   "id": "59614860",
   "metadata": {},
   "outputs": [
    {
     "name": "stdout",
     "output_type": "stream",
     "text": [
      "Hi, everyone\n"
     ]
    }
   ],
   "source": [
    "print('Hi, everyone')"
   ]
  },
  {
   "cell_type": "code",
   "execution_count": 8,
   "id": "840556cf",
   "metadata": {},
   "outputs": [
    {
     "name": "stdout",
     "output_type": "stream",
     "text": [
      "2024\n"
     ]
    }
   ],
   "source": [
    "a = 2024\n",
    "print(a)"
   ]
  },
  {
   "cell_type": "code",
   "execution_count": 9,
   "id": "cf1b91cf",
   "metadata": {},
   "outputs": [
    {
     "name": "stdout",
     "output_type": "stream",
     "text": [
      "여러분 안녕하세요!\n"
     ]
    }
   ],
   "source": [
    "b = '여러분'\n",
    "print(b + ' 안녕하세요!')"
   ]
  },
  {
   "cell_type": "code",
   "execution_count": 10,
   "id": "3ea3525b",
   "metadata": {
    "scrolled": true
   },
   "outputs": [
    {
     "name": "stdout",
     "output_type": "stream",
     "text": [
      "2024년에도 새해 복 많이 받으세요!\n"
     ]
    }
   ],
   "source": [
    "c = '새해'\n",
    "print(str(a)+ '년에도 '+ c + ' 복 많이 받으세요!')"
   ]
  },
  {
   "cell_type": "markdown",
   "id": "f56337f2",
   "metadata": {},
   "source": [
    "#표준입력"
   ]
  },
  {
   "cell_type": "code",
   "execution_count": 11,
   "id": "cedc09eb",
   "metadata": {},
   "outputs": [
    {
     "name": "stdout",
     "output_type": "stream",
     "text": [
      "이름 입력 > \n"
     ]
    }
   ],
   "source": [
    "name = input('이름 입력 > ')"
   ]
  },
  {
   "cell_type": "code",
   "execution_count": 12,
   "id": "5a716c16",
   "metadata": {},
   "outputs": [
    {
     "data": {
      "text/plain": [
       "''"
      ]
     },
     "execution_count": 12,
     "metadata": {},
     "output_type": "execute_result"
    }
   ],
   "source": [
    "name"
   ]
  },
  {
   "cell_type": "code",
   "execution_count": 13,
   "id": "f8a0cf8d",
   "metadata": {},
   "outputs": [
    {
     "name": "stdout",
     "output_type": "stream",
     "text": [
      "이름을 입력하세요: 임인균\n",
      "임인균님 안녕하세요!\n"
     ]
    }
   ],
   "source": [
    "name = input('이름을 입력하세요: ')\n",
    "print(name + '님 안녕하세요!')"
   ]
  },
  {
   "cell_type": "code",
   "execution_count": 14,
   "id": "424b74d8",
   "metadata": {},
   "outputs": [
    {
     "name": "stdout",
     "output_type": "stream",
     "text": [
      "출생 연도를 입력하세요: 2004\n",
      "18 세이시군요!\n"
     ]
    }
   ],
   "source": [
    "birth = input('출생 연도를 입력하세요: ')\n",
    "print(2022-int(birth),'세이시군요!')"
   ]
  },
  {
   "cell_type": "code",
   "execution_count": 15,
   "id": "2290c716",
   "metadata": {},
   "outputs": [
    {
     "name": "stdout",
     "output_type": "stream",
     "text": [
      "이름을 입력하세요: 임인균\n",
      "출생 연도를 입력하세요: 2004\n",
      "안녕하세요!임인균님!18세이시군요!\n"
     ]
    }
   ],
   "source": [
    "name = input('이름을 입력하세요: ')\n",
    "birth = input('출생 연도를 입력하세요: ')\n",
    "age = 2022 - int(birth)\n",
    "print('안녕하세요!'+ name + '님!' + str(age) + '세이시군요!')    "
   ]
  },
  {
   "cell_type": "markdown",
   "id": "747ab9bf",
   "metadata": {},
   "source": [
    "##내장함수"
   ]
  },
  {
   "cell_type": "code",
   "execution_count": 18,
   "id": "26c5e494",
   "metadata": {},
   "outputs": [
    {
     "data": {
      "text/plain": [
       "3"
      ]
     },
     "execution_count": 18,
     "metadata": {},
     "output_type": "execute_result"
    }
   ],
   "source": [
    "abs(-3)"
   ]
  },
  {
   "cell_type": "code",
   "execution_count": 19,
   "id": "bd5e1c76",
   "metadata": {},
   "outputs": [
    {
     "data": {
      "text/plain": [
       "True"
      ]
     },
     "execution_count": 19,
     "metadata": {},
     "output_type": "execute_result"
    }
   ],
   "source": [
    "bool('py')"
   ]
  },
  {
   "cell_type": "markdown",
   "id": "aaad874d",
   "metadata": {},
   "source": [
    "# 반복문"
   ]
  },
  {
   "cell_type": "code",
   "execution_count": 20,
   "id": "9ce326b1",
   "metadata": {},
   "outputs": [
    {
     "name": "stdout",
     "output_type": "stream",
     "text": [
      "0\n",
      "2\n",
      "4\n",
      "6\n",
      "8\n"
     ]
    }
   ],
   "source": [
    "for i in range(5):\n",
    "    print(i * 2)"
   ]
  },
  {
   "cell_type": "code",
   "execution_count": 21,
   "id": "d77c9225",
   "metadata": {},
   "outputs": [
    {
     "ename": "NameError",
     "evalue": "name 'prpint' is not defined",
     "output_type": "error",
     "traceback": [
      "\u001b[1;31m---------------------------------------------------------------------------\u001b[0m",
      "\u001b[1;31mNameError\u001b[0m                                 Traceback (most recent call last)",
      "\u001b[1;32m~\\AppData\\Local\\Temp\\ipykernel_5528\\2045252432.py\u001b[0m in \u001b[0;36m<module>\u001b[1;34m\u001b[0m\n\u001b[0;32m      1\u001b[0m \u001b[1;32mfor\u001b[0m \u001b[0mi\u001b[0m \u001b[1;32min\u001b[0m \u001b[0mrange\u001b[0m\u001b[1;33m(\u001b[0m\u001b[1;36m1\u001b[0m\u001b[1;33m,\u001b[0m \u001b[1;36m11\u001b[0m\u001b[1;33m)\u001b[0m\u001b[1;33m:\u001b[0m\u001b[1;33m\u001b[0m\u001b[1;33m\u001b[0m\u001b[0m\n\u001b[1;32m----> 2\u001b[1;33m     \u001b[0mprpint\u001b[0m\u001b[1;33m(\u001b[0m\u001b[0mi\u001b[0m\u001b[1;33m,\u001b[0m \u001b[0mend\u001b[0m\u001b[1;33m=\u001b[0m\u001b[1;34m', '\u001b[0m\u001b[1;33m)\u001b[0m\u001b[1;33m\u001b[0m\u001b[1;33m\u001b[0m\u001b[0m\n\u001b[0m",
      "\u001b[1;31mNameError\u001b[0m: name 'prpint' is not defined"
     ]
    }
   ],
   "source": [
    "for i in range(1, 11):\n",
    "    prpint(i, end=', ')"
   ]
  },
  {
   "cell_type": "code",
   "execution_count": 22,
   "id": "684cc35b",
   "metadata": {},
   "outputs": [
    {
     "name": "stdout",
     "output_type": "stream",
     "text": [
      "1, 2, 3, 4, 5, 6, 7, 8, 9, 10, "
     ]
    }
   ],
   "source": [
    "for i in range(1, 11):\n",
    "    print(i, end=', ')"
   ]
  },
  {
   "cell_type": "code",
   "execution_count": 23,
   "id": "bd6d5ec8",
   "metadata": {},
   "outputs": [
    {
     "name": "stdout",
     "output_type": "stream",
     "text": [
      "1\n",
      "4\n",
      "7\n",
      "10\n"
     ]
    }
   ],
   "source": [
    "for i in range(1, 11, 3):\n",
    "    print(i)"
   ]
  },
  {
   "cell_type": "code",
   "execution_count": 24,
   "id": "52c5195a",
   "metadata": {
    "scrolled": false
   },
   "outputs": [
    {
     "name": "stdout",
     "output_type": "stream",
     "text": [
      "10\n",
      "20\n",
      "30\n"
     ]
    }
   ],
   "source": [
    "for i in [10, 20, 30]:\n",
    "    print(i)"
   ]
  },
  {
   "cell_type": "code",
   "execution_count": 24,
   "id": "cf047ea2",
   "metadata": {
    "scrolled": true
   },
   "outputs": [
    {
     "name": "stdout",
     "output_type": "stream",
     "text": [
      "10\n",
      "20\n",
      "30\n"
     ]
    }
   ],
   "source": [
    "for i in (10, 20, 30):\n",
    "    print(i)"
   ]
  },
  {
   "cell_type": "code",
   "execution_count": 24,
   "id": "3808cac9",
   "metadata": {
    "scrolled": true
   },
   "outputs": [
    {
     "name": "stdout",
     "output_type": "stream",
     "text": [
      "10\n",
      "20\n",
      "30\n"
     ]
    }
   ],
   "source": [
    "for i in {10, 20, 30}:\n",
    "    print(i)"
   ]
  },
  {
   "cell_type": "code",
   "execution_count": 25,
   "id": "556b0a97",
   "metadata": {
    "scrolled": false
   },
   "outputs": [
    {
     "name": "stdout",
     "output_type": "stream",
     "text": [
      "10\n",
      "20\n",
      "30\n"
     ]
    }
   ],
   "source": [
    "for i in {10:'심', 20:'이십', 30:'삼십'}:\n",
    "    print(i)"
   ]
  },
  {
   "cell_type": "code",
   "execution_count": 27,
   "id": "6152abdf",
   "metadata": {
    "scrolled": true
   },
   "outputs": [
    {
     "name": "stdout",
     "output_type": "stream",
     "text": [
      "심\n",
      "이십\n",
      "삼십\n"
     ]
    }
   ],
   "source": [
    "data = {10:'심', 20:'이십', 30:'삼십'}\n",
    "for i in data:\n",
    "    print(data[i])"
   ]
  },
  {
   "cell_type": "code",
   "execution_count": 28,
   "id": "4585ec64",
   "metadata": {},
   "outputs": [
    {
     "data": {
      "text/plain": [
       "'심'"
      ]
     },
     "execution_count": 28,
     "metadata": {},
     "output_type": "execute_result"
    }
   ],
   "source": [
    "data[10]"
   ]
  },
  {
   "cell_type": "markdown",
   "id": "f29e5456",
   "metadata": {},
   "source": [
    "# 리스트"
   ]
  },
  {
   "cell_type": "code",
   "execution_count": 29,
   "id": "a6957ecb",
   "metadata": {},
   "outputs": [
    {
     "data": {
      "text/plain": [
       "['월', '화', '수', '목', '금', '토', '일']"
      ]
     },
     "execution_count": 29,
     "metadata": {},
     "output_type": "execute_result"
    }
   ],
   "source": [
    "day = list('월화수목금토일')\n",
    "day"
   ]
  },
  {
   "cell_type": "code",
   "execution_count": 30,
   "id": "cbbd44c5",
   "metadata": {},
   "outputs": [
    {
     "data": {
      "text/plain": [
       "'목'"
      ]
     },
     "execution_count": 30,
     "metadata": {},
     "output_type": "execute_result"
    }
   ],
   "source": [
    "day[3]"
   ]
  },
  {
   "cell_type": "code",
   "execution_count": 31,
   "id": "f4434b8d",
   "metadata": {},
   "outputs": [
    {
     "data": {
      "text/plain": [
       "'금'"
      ]
     },
     "execution_count": 31,
     "metadata": {},
     "output_type": "execute_result"
    }
   ],
   "source": [
    "day[-3]"
   ]
  },
  {
   "cell_type": "markdown",
   "id": "77fc8265",
   "metadata": {},
   "source": [
    "# 슬라이싱"
   ]
  },
  {
   "cell_type": "code",
   "execution_count": 32,
   "id": "b9ccfe3e",
   "metadata": {},
   "outputs": [
    {
     "data": {
      "text/plain": [
       "['화', '수']"
      ]
     },
     "execution_count": 32,
     "metadata": {},
     "output_type": "execute_result"
    }
   ],
   "source": [
    "day[1:3]"
   ]
  },
  {
   "cell_type": "code",
   "execution_count": 33,
   "id": "64b36a29",
   "metadata": {},
   "outputs": [
    {
     "data": {
      "text/plain": [
       "['목', '금', '토']"
      ]
     },
     "execution_count": 33,
     "metadata": {},
     "output_type": "execute_result"
    }
   ],
   "source": [
    "day[-4:-1]"
   ]
  },
  {
   "cell_type": "code",
   "execution_count": 33,
   "id": "98685e0f",
   "metadata": {},
   "outputs": [
    {
     "data": {
      "text/plain": [
       "['목', '금', '토']"
      ]
     },
     "execution_count": 33,
     "metadata": {},
     "output_type": "execute_result"
    }
   ],
   "source": [
    "day[-4:-1]"
   ]
  },
  {
   "cell_type": "code",
   "execution_count": 34,
   "id": "e7483aca",
   "metadata": {},
   "outputs": [
    {
     "data": {
      "text/plain": [
       "['화', '수', '목', '금', '토']"
      ]
     },
     "execution_count": 34,
     "metadata": {},
     "output_type": "execute_result"
    }
   ],
   "source": [
    "day[1:-1]"
   ]
  },
  {
   "cell_type": "code",
   "execution_count": 35,
   "id": "e18dba32",
   "metadata": {},
   "outputs": [
    {
     "data": {
      "text/plain": [
       "['화', '목', '토']"
      ]
     },
     "execution_count": 35,
     "metadata": {},
     "output_type": "execute_result"
    }
   ],
   "source": [
    "day[1:6:2]"
   ]
  },
  {
   "cell_type": "code",
   "execution_count": 36,
   "id": "440c11f8",
   "metadata": {},
   "outputs": [
    {
     "data": {
      "text/plain": [
       "['화', '금']"
      ]
     },
     "execution_count": 36,
     "metadata": {},
     "output_type": "execute_result"
    }
   ],
   "source": [
    "day[1:7:3]"
   ]
  },
  {
   "cell_type": "code",
   "execution_count": 37,
   "id": "d7da2656",
   "metadata": {},
   "outputs": [
    {
     "data": {
      "text/plain": [
       "['월', '수', '금']"
      ]
     },
     "execution_count": 37,
     "metadata": {},
     "output_type": "execute_result"
    }
   ],
   "source": [
    "day[-7:-1:2]"
   ]
  },
  {
   "cell_type": "code",
   "execution_count": 38,
   "id": "9a1c8e56",
   "metadata": {},
   "outputs": [
    {
     "data": {
      "text/plain": [
       "['월', '화', '수', '목', '금', '토', '일']"
      ]
     },
     "execution_count": 38,
     "metadata": {},
     "output_type": "execute_result"
    }
   ],
   "source": [
    "day[:]"
   ]
  },
  {
   "cell_type": "code",
   "execution_count": 39,
   "id": "9069ca4f",
   "metadata": {},
   "outputs": [
    {
     "data": {
      "text/plain": [
       "['월', '화', '수', '목', '금', '토', '일']"
      ]
     },
     "execution_count": 39,
     "metadata": {},
     "output_type": "execute_result"
    }
   ],
   "source": [
    "day[::]"
   ]
  },
  {
   "cell_type": "code",
   "execution_count": 40,
   "id": "33d03548",
   "metadata": {},
   "outputs": [
    {
     "data": {
      "text/plain": [
       "['일', '토', '금', '목', '수', '화', '월']"
      ]
     },
     "execution_count": 40,
     "metadata": {},
     "output_type": "execute_result"
    }
   ],
   "source": [
    "day[::-1]"
   ]
  },
  {
   "cell_type": "code",
   "execution_count": 41,
   "id": "997caa92",
   "metadata": {},
   "outputs": [
    {
     "data": {
      "text/plain": [
       "['일', '금', '수']"
      ]
     },
     "execution_count": 41,
     "metadata": {},
     "output_type": "execute_result"
    }
   ],
   "source": [
    "day[-1:-7:-2]"
   ]
  },
  {
   "cell_type": "markdown",
   "id": "2c7b528b",
   "metadata": {},
   "source": [
    "#   "
   ]
  },
  {
   "cell_type": "code",
   "execution_count": 43,
   "id": "f9d56e7e",
   "metadata": {},
   "outputs": [
    {
     "name": "stdout",
     "output_type": "stream",
     "text": [
      "2\n"
     ]
    }
   ],
   "source": [
    "import random\n",
    "\n",
    "dice = random.randint(1,6)\n",
    "print(dice)"
   ]
  },
  {
   "cell_type": "code",
   "execution_count": 44,
   "id": "3ee1de51",
   "metadata": {},
   "outputs": [
    {
     "name": "stdout",
     "output_type": "stream",
     "text": [
      "1.4142135623730951\n",
      "2.0\n"
     ]
    }
   ],
   "source": [
    "import math\n",
    "\n",
    "print(math.sqrt(2))\n",
    "print(math.sqrt(4))"
   ]
  },
  {
   "cell_type": "code",
   "execution_count": 46,
   "id": "c3562a4a",
   "metadata": {},
   "outputs": [
    {
     "name": "stdout",
     "output_type": "stream",
     "text": [
      "0\n",
      "1\n",
      "2\n",
      "3\n",
      "4\n",
      "5\n",
      "6\n",
      "7\n",
      "8\n",
      "9\n"
     ]
    }
   ],
   "source": [
    "for num in range(10):\n",
    "    print(num)"
   ]
  },
  {
   "cell_type": "code",
   "execution_count": 47,
   "id": "c16b980f",
   "metadata": {},
   "outputs": [
    {
     "name": "stdout",
     "output_type": "stream",
     "text": [
      "80\n",
      "70\n",
      "90\n",
      "100\n"
     ]
    }
   ],
   "source": [
    "test_score =[80,70,90,100]\n",
    "for score in test_score:\n",
    "    print(score)"
   ]
  },
  {
   "cell_type": "code",
   "execution_count": 48,
   "id": "dfae3682",
   "metadata": {},
   "outputs": [
    {
     "name": "stdout",
     "output_type": "stream",
     "text": [
      "국어\n",
      "영어\n",
      "수학\n",
      "과학\n"
     ]
    }
   ],
   "source": [
    "test_name = ['국어','영어','수학','과학']\n",
    "for name in test_name:\n",
    "    print(name)"
   ]
  },
  {
   "cell_type": "code",
   "execution_count": 49,
   "id": "5b8062d9",
   "metadata": {},
   "outputs": [
    {
     "name": "stdout",
     "output_type": "stream",
     "text": [
      "안녕하세요!\n"
     ]
    }
   ],
   "source": [
    "if (10 > 0):\n",
    "    print('안녕하세요!')"
   ]
  },
  {
   "cell_type": "code",
   "execution_count": 50,
   "id": "5c9572e9",
   "metadata": {},
   "outputs": [
    {
     "name": "stdout",
     "output_type": "stream",
     "text": [
      "패스워드를 입력하세요: 12345\n",
      "로그인 되었습니다.\n"
     ]
    }
   ],
   "source": [
    "password = input('패스워드를 입력하세요: ')\n",
    "if(int(password) == 12345):\n",
    "    print('로그인 되었습니다.')\n",
    "elif(int(password) == 11111):\n",
    "    print('관리자 권한입니다,')\n",
    "else:\n",
    "    prinnt('로그인에 실패하였습니다.')"
   ]
  },
  {
   "cell_type": "code",
   "execution_count": 51,
   "id": "08de328e",
   "metadata": {},
   "outputs": [
    {
     "name": "stdout",
     "output_type": "stream",
     "text": [
      "<class 'list'>\n"
     ]
    }
   ],
   "source": [
    "arr1 = [1,2,3,4,5]\n",
    "print(type(arr1))"
   ]
  },
  {
   "cell_type": "code",
   "execution_count": 52,
   "id": "6e8c1550",
   "metadata": {},
   "outputs": [
    {
     "name": "stdout",
     "output_type": "stream",
     "text": [
      "<class 'list'>\n"
     ]
    }
   ],
   "source": [
    "arr2 = ['월','화','수','목','금','토']\n",
    "print(type(arr2))"
   ]
  },
  {
   "cell_type": "code",
   "execution_count": 53,
   "id": "6b911060",
   "metadata": {},
   "outputs": [
    {
     "name": "stdout",
     "output_type": "stream",
     "text": [
      "<class 'list'>\n"
     ]
    }
   ],
   "source": [
    "arr3 = [1,2,3,4,5,'월','화','수','목','금','토']\n",
    "print(type(arr3))"
   ]
  },
  {
   "cell_type": "code",
   "execution_count": 54,
   "id": "1f93cb1a",
   "metadata": {},
   "outputs": [
    {
     "name": "stdout",
     "output_type": "stream",
     "text": [
      "['월', '화', '수', '목', '금', '토']\n"
     ]
    }
   ],
   "source": [
    "arr2 = ['월','화','수','목','금','토']\n",
    "print(arr2)"
   ]
  },
  {
   "cell_type": "code",
   "execution_count": 55,
   "id": "009b8c31",
   "metadata": {},
   "outputs": [
    {
     "name": "stdout",
     "output_type": "stream",
     "text": [
      "월\n",
      "화\n",
      "수\n",
      "목\n",
      "금\n",
      "토\n"
     ]
    }
   ],
   "source": [
    "arr2 = ['월','화','수','목','금','토']\n",
    "print(arr2[0])\n",
    "print(arr2[1])\n",
    "print(arr2[2])\n",
    "print(arr2[3])\n",
    "print(arr2[4])\n",
    "print(arr2[5])"
   ]
  },
  {
   "cell_type": "code",
   "execution_count": 56,
   "id": "fd0e7292",
   "metadata": {},
   "outputs": [
    {
     "name": "stdout",
     "output_type": "stream",
     "text": [
      "토\n",
      "금\n",
      "목\n",
      "수\n",
      "화\n",
      "월\n"
     ]
    }
   ],
   "source": [
    "arr2 = ['월','화','수','목','금','토']\n",
    "print(arr2[-1])\n",
    "print(arr2[-2])\n",
    "print(arr2[-3])\n",
    "print(arr2[-4])\n",
    "print(arr2[-5])\n",
    "print(arr2[-6])"
   ]
  },
  {
   "cell_type": "code",
   "execution_count": 58,
   "id": "3e2174cc",
   "metadata": {},
   "outputs": [
    {
     "name": "stdout",
     "output_type": "stream",
     "text": [
      "['월', '화']\n",
      "['화', '수', '목']\n",
      "['화', '수', '목', '금', '토']\n",
      "['월', '화', '수']\n",
      "['월', '화', '수', '목', '금', '토']\n"
     ]
    }
   ],
   "source": [
    "arr2 = ['월','화','수','목','금','토']\n",
    "print(arr2[0:2]) \n",
    "print(arr2[1:4]) \n",
    "print(arr2[1:]) \n",
    "print(arr2[:3]) \n",
    "print(arr2[:]) "
   ]
  },
  {
   "cell_type": "code",
   "execution_count": 60,
   "id": "375c5b81",
   "metadata": {},
   "outputs": [
    {
     "name": "stdout",
     "output_type": "stream",
     "text": [
      "[1, 2, 3, 4, 5]\n",
      "5\n",
      "[1, 2, 3, 4, 5, 6]\n",
      "6\n"
     ]
    }
   ],
   "source": [
    "arr1 = [1, 2, 3, 4, 5]\n",
    "print(arr1)\n",
    "print(len(arr1))\n",
    "arr1.append(6)\n",
    "print(arr1)\n",
    "print(len(arr1))"
   ]
  },
  {
   "cell_type": "code",
   "execution_count": 61,
   "id": "61f5b21f",
   "metadata": {},
   "outputs": [
    {
     "name": "stdout",
     "output_type": "stream",
     "text": [
      "['월', '화', '수', '목', '금', '토']\n",
      "6\n",
      "['월', '화', '수', '목', '금', '토', '일']\n",
      "7\n"
     ]
    }
   ],
   "source": [
    "arr2 = ['월','화','수','목','금','토']\n",
    "print(arr2)\n",
    "print(len(arr2))\n",
    "arr2.append('일')\n",
    "print(arr2)\n",
    "print(len(arr2))"
   ]
  },
  {
   "cell_type": "code",
   "execution_count": null,
   "id": "917c6913",
   "metadata": {},
   "outputs": [],
   "source": []
  }
 ],
 "metadata": {
  "kernelspec": {
   "display_name": "Python 3 (ipykernel)",
   "language": "python",
   "name": "python3"
  },
  "language_info": {
   "codemirror_mode": {
    "name": "ipython",
    "version": 3
   },
   "file_extension": ".py",
   "mimetype": "text/x-python",
   "name": "python",
   "nbconvert_exporter": "python",
   "pygments_lexer": "ipython3",
   "version": "3.9.13"
  }
 },
 "nbformat": 4,
 "nbformat_minor": 5
}
